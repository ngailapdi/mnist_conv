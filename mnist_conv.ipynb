{
  "nbformat": 4,
  "nbformat_minor": 0,
  "metadata": {
    "colab": {
      "name": "mnist_conv.ipynb",
      "version": "0.3.2",
      "views": {},
      "default_view": {},
      "provenance": []
    },
    "kernelspec": {
      "name": "python3",
      "display_name": "Python 3"
    },
    "accelerator": "GPU"
  },
  "cells": [
    {
      "metadata": {
        "id": "A_fqhXwiu0PE",
        "colab_type": "text"
      },
      "cell_type": "markdown",
      "source": [
        "# **MNIST CONV**\n",
        "\n",
        "Hi, welcome to this PyTorch implementation of ConvNet to classify the well-khown MNIST dataset from scratch. Remember that in Colab you can set your notebook to use GPU rather than CPU by \n",
        "\n",
        "```\n",
        "Edit -> Notebook Settings -> Hardware accelerator -> GPU\n",
        "```\n",
        "You might not need this for this particular implementation since it's fairly simple, but it will be very useful later on when your model gets more complex.\n",
        "\n",
        "Let's dive in! Have fun!"
      ]
    },
    {
      "metadata": {
        "id": "2QKMGlSXnFq4",
        "colab_type": "code",
        "colab": {
          "autoexec": {
            "startup": false,
            "wait_interval": 0
          }
        }
      },
      "cell_type": "code",
      "source": [
        "########## Import ############\n",
        "import torch\n",
        "import torch.nn as nn\n",
        "import torch.nn.functional as F\n",
        "from torchvision import datasets, transforms\n",
        "import torch.optim as optim\n",
        "from torch.autograd import Variable\n",
        "from torch.optim import lr_scheduler\n",
        "import torchvision\n",
        "import numpy as np\n",
        "import matplotlib.pyplot as plt"
      ],
      "execution_count": 0,
      "outputs": []
    },
    {
      "metadata": {
        "id": "sfA4X7ONoErA",
        "colab_type": "code",
        "colab": {
          "autoexec": {
            "startup": false,
            "wait_interval": 0
          }
        }
      },
      "cell_type": "code",
      "source": [
        "#### Load the MNIST dataset #####\n",
        "train_data = datasets.MNIST('~/data/mnist/', train=True, transform=transforms.ToTensor(), download=True)\n",
        "test_data = datasets.MNIST('~/data/mnist/', train=False, transform=transforms.ToTensor(), download=True)\n",
        "data_loader = torch.utils.data.DataLoader(train_data, batch_size=128, \n",
        "            shuffle=True, num_workers=4, drop_last=True)"
      ],
      "execution_count": 0,
      "outputs": []
    },
    {
      "metadata": {
        "id": "lyMsfS-DHgRp",
        "colab_type": "text"
      },
      "cell_type": "markdown",
      "source": [
        "The following function is to view the samples from the training set"
      ]
    },
    {
      "metadata": {
        "id": "kLDT_vZc3DPt",
        "colab_type": "code",
        "colab": {
          "autoexec": {
            "startup": false,
            "wait_interval": 0
          }
        }
      },
      "cell_type": "code",
      "source": [
        "def view_samples(samples):\n",
        "    fig, axes = plt.subplots(figsize=(7,7), nrows=4, ncols=4, sharey=True, sharex=True)\n",
        "    for ax, img in zip(axes.flatten(), samples):\n",
        "        ax.xaxis.set_visible(False)\n",
        "        ax.yaxis.set_visible(False)\n",
        "        im = ax.imshow(img.reshape((28,28)), cmap='Greys_r')\n",
        "    \n",
        "    return fig, axes"
      ],
      "execution_count": 0,
      "outputs": []
    },
    {
      "metadata": {
        "id": "kC-2Oo2G3POG",
        "colab_type": "code",
        "colab": {
          "autoexec": {
            "startup": false,
            "wait_interval": 0
          },
          "base_uri": "https://localhost:8080/",
          "height": 411
        },
        "outputId": "729f927d-8b8e-48cd-eddf-fd427eb96aff",
        "executionInfo": {
          "status": "ok",
          "timestamp": 1529262045433,
          "user_tz": 420,
          "elapsed": 1402,
          "user": {
            "displayName": "Anh Thai",
            "photoUrl": "//lh6.googleusercontent.com/-CcIGcsPVloI/AAAAAAAAAAI/AAAAAAAAGjk/eTtFRyov-FA/s50-c-k-no/photo.jpg",
            "userId": "106924982770410142381"
          }
        }
      },
      "cell_type": "code",
      "source": [
        "############### Viewing 16 random images from MNIST training set #############\n",
        "ind = np.random.choice(len(train_data), 16)\n",
        "samples = []\n",
        "for i in ind:\n",
        "  samples.append(train_data[i][0].numpy())\n",
        "_ = view_samples(np.array(samples).transpose(0,2,3,1))"
      ],
      "execution_count": 46,
      "outputs": [
        {
          "output_type": "display_data",
          "data": {
            "image/png": "[encoded data removed]",
            "text/plain": [
              "<matplotlib.figure.Figure at 0x7fc151b0fb00>"
            ]
          },
          "metadata": {
            "tags": []
          }
        }
      ]
    },
    {
      "metadata": {
        "id": "bYgE5OW-Hxyv",
        "colab_type": "text"
      },
      "cell_type": "markdown",
      "source": [
        "Here comes the important part: the Model. As you can see this model has the following structure:\n",
        "\n",
        "```\n",
        "Input -> Conv(3x3x16,1) -> Relu -> Max pool(2x2,2) -> Conv(3x3x8,1) -> Relu -> Max pool(2x2,2) -> Conv(3x3x8,1) -> Relu -> Max pool(2x2,2) -> FC -> Sigmoid\n",
        "```\n",
        "where <code>Conv(3x3x16,1)</code> means the spatial resolution of the filter is <code>3x3</code>, <code>16</code> filters and the stride is <code>1</code>. Similar notation applies to <code>Max pool</code> as well.\n"
      ]
    },
    {
      "metadata": {
        "id": "oQnuzL6aoYs7",
        "colab_type": "code",
        "colab": {
          "autoexec": {
            "startup": false,
            "wait_interval": 0
          }
        }
      },
      "cell_type": "code",
      "source": [
        "class Model(nn.Module):\n",
        "  def __init__(self):\n",
        "    super(Model, self).__init__()\n",
        "    self.conv1 = nn.Conv2d(1, 16, 3, stride=1, padding=1)\n",
        "    self.conv2 = nn.Conv2d(16, 8, 3, stride=1, padding=1)\n",
        "    self.conv3 = nn.Conv2d(8, 8, 3, stride=1, padding=1)\n",
        "    self.pool1 = nn.MaxPool2d(2, padding=0)\n",
        "    self.pool2 = nn.MaxPool2d(2, padding=1)\n",
        "    self.fc = nn.Linear(128, 10, bias=False)\n",
        "  def forward(self, image):\n",
        "    conv1 = self.conv1(image)\n",
        "    relu1 = F.relu(conv1) #28x28x16\n",
        "    pool1 = self.pool1(relu1) #14x14x16\n",
        "    conv2 = self.conv2(pool1) #14x14x8\n",
        "    relu2 = F.relu(conv2)\n",
        "    pool2 = self.pool1(relu2) #7x7x8\n",
        "    conv3 = self.conv3(pool2) #7x7x8\n",
        "    relu3 = F.relu(conv3)\n",
        "    pool3 = self.pool2(relu3) #4x4x8\n",
        "    pool3 = pool3.view([image.size(0), 8*4*4]).cuda() ##### Flatten this layer\n",
        "    fc = self.fc(pool3)\n",
        "    logits = F.sigmoid(fc)\n",
        "    return logits"
      ],
      "execution_count": 0,
      "outputs": []
    },
    {
      "metadata": {
        "id": "IoK0OWu6JWfi",
        "colab_type": "text"
      },
      "cell_type": "markdown",
      "source": [
        "Then I initialize the model, loss, optimizer and scheduler for the learning rate. The loss I'm using is Cross Entropy Loss. Different loss functions can be found [here](http://ml-cheatsheet.readthedocs.io/en/latest/loss_functions.html). I'm using Stochastic Gradient Descent for the optimizer. Lastly, the scheduler means reducing the learning rate by the factor of <code>10</code> every <code>7</code> epochs."
      ]
    },
    {
      "metadata": {
        "id": "Wh9UwtM0vBPx",
        "colab_type": "code",
        "colab": {
          "autoexec": {
            "startup": false,
            "wait_interval": 0
          }
        }
      },
      "cell_type": "code",
      "source": [
        "model = Model()\n",
        "model.cuda()\n",
        "criterion = nn.CrossEntropyLoss()\n",
        "optimizer = optim.SGD(model.parameters(), lr=0.1, momentum=0.9)\n",
        "scheduler = lr_scheduler.StepLR(optimizer, step_size=7, gamma=0.1)\n"
      ],
      "execution_count": 0,
      "outputs": []
    },
    {
      "metadata": {
        "id": "hLTxEEroMxrY",
        "colab_type": "text"
      },
      "cell_type": "markdown",
      "source": [
        "This is the final step: Training! I train the model for 15 epochs "
      ]
    },
    {
      "metadata": {
        "id": "ILaT5Gm3w9Af",
        "colab_type": "code",
        "colab": {
          "autoexec": {
            "startup": false,
            "wait_interval": 0
          }
        }
      },
      "cell_type": "code",
      "source": [
        "def train(model, criterion, optimizer, scheduler, data_loader):\n",
        "  epochs = 15\n",
        "  for epoch in range(epochs): \n",
        "    print('Epoch {}\\{}'.format(epoch,epochs-1))\n",
        "    tot_loss = 0.0\n",
        "    correct = 0\n",
        "    scheduler.step()\n",
        "    for data in data_loader:\n",
        "      inputs, labels = data\n",
        "      inputs, labels = Variable(inputs).cuda(), Variable(labels).cuda()\n",
        "      optimizer.zero_grad()\n",
        "      logits = model(inputs)\n",
        "      _, preds = torch.max(logits.data,1)\n",
        "      loss = criterion(logits, labels)\n",
        "      loss.backward()\n",
        "      optimizer.step()\n",
        "      tot_loss += loss.data[0]\n",
        "      correct += torch.sum(preds == labels.data)\n",
        "    print('Epoch loss: ', tot_loss/len(train_data))\n",
        "    print('Epoch acc: ', correct/len(train_data))\n",
        "  return model\n",
        "    \n",
        "    "
      ],
      "execution_count": 0,
      "outputs": []
    },
    {
      "metadata": {
        "id": "3yvMUqLrPItC",
        "colab_type": "code",
        "colab": {
          "autoexec": {
            "startup": false,
            "wait_interval": 0
          },
          "base_uri": "https://localhost:8080/",
          "height": 782
        },
        "outputId": "2a9e4254-cab8-4a4c-f358-9d16707bea8b",
        "executionInfo": {
          "status": "ok",
          "timestamp": 1529264231070,
          "user_tz": 420,
          "elapsed": 103856,
          "user": {
            "displayName": "Anh Thai",
            "photoUrl": "//lh6.googleusercontent.com/-CcIGcsPVloI/AAAAAAAAAAI/AAAAAAAAGjk/eTtFRyov-FA/s50-c-k-no/photo.jpg",
            "userId": "106924982770410142381"
          }
        }
      },
      "cell_type": "code",
      "source": [
        "model = train(model, criterion, optimizer, scheduler, data_loader)"
      ],
      "execution_count": 66,
      "outputs": [
        {
          "output_type": "stream",
          "text": [
            "Epoch 0\\14\n",
            "Epoch loss:  0.012440653942028682\n",
            "Epoch acc:  0.8590666666666666\n",
            "Epoch 1\\14\n",
            "Epoch loss:  0.01236017829577128\n",
            "Epoch acc:  0.8744333333333333\n",
            "Epoch 2\\14\n",
            "Epoch loss:  0.011901360255479812\n",
            "Epoch acc:  0.9376833333333333\n",
            "Epoch 3\\14\n",
            "Epoch loss:  0.011701269006729126\n",
            "Epoch acc:  0.9599333333333333\n",
            "Epoch 4\\14\n",
            "Epoch loss:  0.011669639150301616\n",
            "Epoch acc:  0.9636\n",
            "Epoch 5\\14\n",
            "Epoch loss:  0.011643272747596104\n",
            "Epoch acc:  0.9673166666666667\n",
            "Epoch 6\\14\n",
            "Epoch loss:  0.011593472143014273\n",
            "Epoch acc:  0.9722666666666666\n",
            "Epoch 7\\14\n",
            "Epoch loss:  0.011580984232823053\n",
            "Epoch acc:  0.9738166666666667\n",
            "Epoch 8\\14\n",
            "Epoch loss:  0.011576010372241338\n",
            "Epoch acc:  0.9749833333333333\n",
            "Epoch 9\\14\n",
            "Epoch loss:  0.011571064539750417\n",
            "Epoch acc:  0.9750833333333333\n",
            "Epoch 10\\14\n",
            "Epoch loss:  0.011569445023934047\n",
            "Epoch acc:  0.9755833333333334\n",
            "Epoch 11\\14\n",
            "Epoch loss:  0.011566572250922521\n",
            "Epoch acc:  0.9758166666666667\n",
            "Epoch 12\\14\n",
            "Epoch loss:  0.011565895901123682\n",
            "Epoch acc:  0.9759833333333333\n",
            "Epoch 13\\14\n",
            "Epoch loss:  0.011559143869082134\n",
            "Epoch acc:  0.9762666666666666\n",
            "Epoch 14\\14\n",
            "Epoch loss:  0.011558124782641729\n",
            "Epoch acc:  0.9762833333333333\n"
          ],
          "name": "stdout"
        }
      ]
    },
    {
      "metadata": {
        "id": "FiCgK7yPRvRU",
        "colab_type": "text"
      },
      "cell_type": "markdown",
      "source": [
        "Finally test the model on the test set."
      ]
    },
    {
      "metadata": {
        "id": "lfT7C5AhQGsS",
        "colab_type": "code",
        "colab": {
          "autoexec": {
            "startup": false,
            "wait_interval": 0
          },
          "base_uri": "https://localhost:8080/",
          "height": 34
        },
        "outputId": "4b749e56-e604-4a59-cbc0-25e63f5f307c",
        "executionInfo": {
          "status": "ok",
          "timestamp": 1529264543921,
          "user_tz": 420,
          "elapsed": 1147,
          "user": {
            "displayName": "Anh Thai",
            "photoUrl": "//lh6.googleusercontent.com/-CcIGcsPVloI/AAAAAAAAAAI/AAAAAAAAGjk/eTtFRyov-FA/s50-c-k-no/photo.jpg",
            "userId": "106924982770410142381"
          }
        }
      },
      "cell_type": "code",
      "source": [
        "test_loader = torch.utils.data.DataLoader(test_data, batch_size=128, \n",
        "            shuffle=True, num_workers=4, drop_last=True)\n",
        "correct = 0\n",
        "model.train(False)\n",
        "for data in test_loader:\n",
        "  inputs, labels = data\n",
        "  inputs, labels = Variable(inputs).cuda(), Variable(labels).cuda()\n",
        "  outputs = model(inputs)\n",
        "  _, preds = torch.max(outputs.data,1)\n",
        "  correct += torch.sum(preds == labels.data)\n",
        "print('Test accuracy: ', correct/len(test_data))"
      ],
      "execution_count": 69,
      "outputs": [
        {
          "output_type": "stream",
          "text": [
            "Test accuracy:  0.9764\n"
          ],
          "name": "stdout"
        }
      ]
    },
    {
      "metadata": {
        "id": "db1UTDO-RhK9",
        "colab_type": "text"
      },
      "cell_type": "markdown",
      "source": [
        "And done! We have finally achieved the test accuracy of <code>97.64%</code> which is awesome! If you want you can play around with the parameters: initial learning rate, step size, gamma, number of epochs or the convolution layers' parameters and see if the accuracy improves.\n",
        "\n",
        "I hope that you had fun and enjoyed this tutorial. Can't wait to see you again for some more fascinating challenges. "
      ]
    }
  ]
}