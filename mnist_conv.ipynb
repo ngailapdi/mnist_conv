{
  "nbformat": 4,
  "nbformat_minor": 0,
  "metadata": {
    "colab": {
      "name": "mnist_conv.ipynb",
      "version": "0.3.2",
      "views": {},
      "default_view": {},
      "provenance": []
    },
    "kernelspec": {
      "name": "python3",
      "display_name": "Python 3"
    },
    "accelerator": "GPU"
  },
  "cells": [
    {
      "metadata": {
        "id": "2QKMGlSXnFq4",
        "colab_type": "code",
        "colab": {
          "autoexec": {
            "startup": false,
            "wait_interval": 0
          }
        }
      },
      "cell_type": "code",
      "source": [
        "import torch\n",
        "import torch.nn as nn\n",
        "import torch.nn.functional as F\n",
        "from torchvision import datasets, transforms\n",
        "import torch.optim as optim\n",
        "from torch.autograd import Variable\n",
        "from torch.optim import lr_scheduler\n",
        "import torchvision\n",
        "import numpy as np\n",
        "import cv2"
      ],
      "execution_count": 0,
      "outputs": []
    },
    {
      "metadata": {
        "id": "sfA4X7ONoErA",
        "colab_type": "code",
        "colab": {
          "autoexec": {
            "startup": false,
            "wait_interval": 0
          }
        }
      },
      "cell_type": "code",
      "source": [
        "#### Load the MNIST dataset #####\n",
        "train_data = datasets.MNIST('~/data/mnist/', train=True, transform=transforms.ToTensor(), download=True)\n",
        "test_data = datasets.MNIST('~/data/mnist/', train=False, transform=transforms.ToTensor(), download=True)\n",
        "data_loader = torch.utils.data.DataLoader(train_data, batch_size=128, \n",
        "            shuffle=True, num_workers=4, drop_last=True)"
      ],
      "execution_count": 0,
      "outputs": []
    },
    {
      "metadata": {
        "id": "oQnuzL6aoYs7",
        "colab_type": "code",
        "colab": {
          "autoexec": {
            "startup": false,
            "wait_interval": 0
          }
        }
      },
      "cell_type": "code",
      "source": [
        "class Model(nn.Module):\n",
        "  def __init__(self):\n",
        "    super(Model, self).__init__()\n",
        "    self.conv1 = nn.Conv2d(1, 16, 3, stride=1, padding=1)\n",
        "    self.conv2 = nn.Conv2d(16, 8, 3, stride=1, padding=1)\n",
        "    self.conv3 = nn.Conv2d(8, 8, 3, stride=1, padding=1)\n",
        "    self.pool1 = nn.MaxPool2d(2, padding=0)\n",
        "    self.pool2 = nn.MaxPool2d(2, padding=1)\n",
        "    self.fc = nn.Linear(128, 10, bias=False)\n",
        "  def forward(self, image):\n",
        "    conv1 = self.conv1(image)\n",
        "    relu1 = F.relu(conv1) #28x28x16\n",
        "    pool1 = self.pool1(relu1) #14x14x16\n",
        "    conv2 = self.conv2(pool1) #14x14x8\n",
        "    relu2 = F.relu(conv2)\n",
        "    pool2 = self.pool1(relu2) #7x7x8\n",
        "    conv3 = self.conv3(pool2) #7x7x8\n",
        "    relu3 = F.relu(conv3)\n",
        "    pool3 = self.pool2(relu3) #4x4x8\n",
        "    pool3 = pool3.view([image.size(0), 8*4*4]).cuda()\n",
        "    fc = self.fc(pool3)\n",
        "    logits = F.sigmoid(fc)\n",
        "    return logits"
      ],
      "execution_count": 0,
      "outputs": []
    },
    {
      "metadata": {
        "id": "Wh9UwtM0vBPx",
        "colab_type": "code",
        "colab": {
          "autoexec": {
            "startup": false,
            "wait_interval": 0
          }
        }
      },
      "cell_type": "code",
      "source": [
        "model = Model()\n",
        "model.cuda()\n",
        "criterion = nn.CrossEntropyLoss()\n",
        "optimizer = optim.SGD(model.parameters(), lr=0.1, momentum=0.9)\n",
        "scheduler = lr_scheduler.StepLR(optimizer, step_size=7, gamma=0.1)\n"
      ],
      "execution_count": 0,
      "outputs": []
    },
    {
      "metadata": {
        "id": "ILaT5Gm3w9Af",
        "colab_type": "code",
        "colab": {
          "autoexec": {
            "startup": false,
            "wait_interval": 0
          },
          "base_uri": "https://localhost:8080/",
          "height": 782
        },
        "outputId": "de0375fc-0158-4417-d7f9-f462a7a99e06",
        "executionInfo": {
          "status": "ok",
          "timestamp": 1529173603256,
          "user_tz": 420,
          "elapsed": 110425,
          "user": {
            "displayName": "Anh Thai",
            "photoUrl": "//lh6.googleusercontent.com/-CcIGcsPVloI/AAAAAAAAAAI/AAAAAAAAGjk/eTtFRyov-FA/s50-c-k-no/photo.jpg",
            "userId": "106924982770410142381"
          }
        }
      },
      "cell_type": "code",
      "source": [
        "epochs = 15\n",
        "for epoch in range(epochs): \n",
        "  print('Epoch {}\\{}'.format(epoch,epochs-1))\n",
        "  tot_loss = 0.0\n",
        "  correct = 0\n",
        "  scheduler.step()\n",
        "  for data in data_loader:\n",
        "    inputs, labels = data\n",
        "    inputs, labels = Variable(inputs).cuda(), Variable(labels).cuda()\n",
        "    optimizer.zero_grad()\n",
        "    logits = model(inputs)\n",
        "    _, preds = torch.max(logits.data,1)\n",
        "    loss = criterion(logits, labels)\n",
        "    loss.backward()\n",
        "    optimizer.step()\n",
        "    tot_loss += loss.data[0]\n",
        "    correct += torch.sum(preds == labels.data)\n",
        "  print('Epoch loss: ', tot_loss/len(train_data))\n",
        "  print('Epoch acc: ', correct/len(train_data))\n",
        "    \n",
        "    "
      ],
      "execution_count": 29,
      "outputs": [
        {
          "output_type": "stream",
          "text": [
            "Epoch 0\\14\n",
            "Epoch loss:  0.011562374889850617\n",
            "Epoch acc:  0.9753\n",
            "Epoch 1\\14\n",
            "Epoch loss:  0.011558146832386653\n",
            "Epoch acc:  0.9759166666666667\n",
            "Epoch 2\\14\n",
            "Epoch loss:  0.011556019711494446\n",
            "Epoch acc:  0.9757833333333333\n",
            "Epoch 3\\14\n",
            "Epoch loss:  0.011553491445382437\n",
            "Epoch acc:  0.9761333333333333\n",
            "Epoch 4\\14\n",
            "Epoch loss:  0.011549216602245966\n",
            "Epoch acc:  0.9767\n",
            "Epoch 5\\14\n",
            "Epoch loss:  0.011547996417681377\n",
            "Epoch acc:  0.97675\n",
            "Epoch 6\\14\n",
            "Epoch loss:  0.01154741065899531\n",
            "Epoch acc:  0.97685\n",
            "Epoch 7\\14\n",
            "Epoch loss:  0.011547359971205394\n",
            "Epoch acc:  0.9767333333333333\n",
            "Epoch 8\\14\n",
            "Epoch loss:  0.011547131723165512\n",
            "Epoch acc:  0.9768166666666667\n",
            "Epoch 9\\14\n",
            "Epoch loss:  0.011546660949786505\n",
            "Epoch acc:  0.9768333333333333\n",
            "Epoch 10\\14\n",
            "Epoch loss:  0.011546688608328502\n",
            "Epoch acc:  0.9769\n",
            "Epoch 11\\14\n",
            "Epoch loss:  0.011545861105124155\n",
            "Epoch acc:  0.9770666666666666\n",
            "Epoch 12\\14\n",
            "Epoch loss:  0.011545821313063304\n",
            "Epoch acc:  0.9770333333333333\n",
            "Epoch 13\\14\n",
            "Epoch loss:  0.011545942836999893\n",
            "Epoch acc:  0.9769666666666666\n",
            "Epoch 14\\14\n",
            "Epoch loss:  0.011546023601293564\n",
            "Epoch acc:  0.97695\n"
          ],
          "name": "stdout"
        }
      ]
    }
  ]
}